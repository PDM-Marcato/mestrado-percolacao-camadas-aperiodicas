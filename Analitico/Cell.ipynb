{
 "cells": [
  {
   "cell_type": "markdown",
   "id": "2ec0de00-d875-4910-8763-82a0ee3473f1",
   "metadata": {},
   "source": [
    "# Import & Constants"
   ]
  },
  {
   "cell_type": "code",
   "execution_count": 1,
   "id": "0bbd033d-b7a7-40a0-ad4e-b049c29a9f6e",
   "metadata": {},
   "outputs": [],
   "source": [
    "import itertools\n",
    "import matplotlib.pyplot as plt\n",
    "import numpy as np\n",
    "import os\n",
    "from graph_tool.all import *"
   ]
  },
  {
   "cell_type": "code",
   "execution_count": 2,
   "id": "d73ed069-f06b-428b-a228-e472845917f8",
   "metadata": {},
   "outputs": [],
   "source": [
    "C = 2\n",
    "L = 1\n",
    "probabilityLayer = [\"A\", \"B\"]"
   ]
  },
  {
   "cell_type": "markdown",
   "id": "11eed15a-f769-4e17-96f8-2fec8e4d9c6c",
   "metadata": {},
   "source": [
    "# Probability Calculator & Cell Generator"
   ]
  },
  {
   "cell_type": "code",
   "execution_count": 11,
   "id": "63e9665f-e6f4-4bba-9916-b9f721d71ba2",
   "metadata": {},
   "outputs": [],
   "source": [
    "def Combinations_Generator(C,L):# Generate all possible combinations states\n",
    "    N = C*(L+1)\n",
    "    all_combinations = np.array(list(itertools.product([0, 3], repeat=N)))\n",
    "    return all_combinations"
   ]
  },
  {
   "cell_type": "code",
   "execution_count": 4,
   "id": "543411e3-1bad-42a2-852c-2a08f9b351ee",
   "metadata": {},
   "outputs": [],
   "source": [
    "def Combination_Probability(L, C, combination, probabilityLayer):\n",
    "    \n",
    "    combinationProbability = \"\"\n",
    "    c = 0\n",
    "    i = 0\n",
    "        \n",
    "    for edge in combination:\n",
    "        if(edge == 1):\n",
    "            combinationProbability += f\"p{probabilityLayer[i]}1 *\"\n",
    "        elif(edge == 2):\n",
    "            combinationProbability += f\"p{probabilityLayer[i]}2 *\"\n",
    "        elif(edge == 3):\n",
    "            combinationProbability += f\"p{probabilityLayer[i]}3 *\"\n",
    "        else:\n",
    "            combinationProbability += f\"p{probabilityLayer[i]}0 *\"\n",
    "\n",
    "        c += 1\n",
    "        if(c%C == 0):\n",
    "            i += 1\n",
    "        combinationProbability = combinationProbability[:-1]\n",
    "\n",
    "    return combinationProbability"
   ]
  },
  {
   "cell_type": "code",
   "execution_count": 5,
   "id": "4890169f-041b-48fe-9a11-347638880c2a",
   "metadata": {},
   "outputs": [],
   "source": [
    "#probabilityLayer = [\"p\", \"p\"]\n",
    "#for combination in Combinations_Generator(C,L):\n",
    "#    print(Combination_Probability(L, C, combination, probabilityLayer))"
   ]
  },
  {
   "cell_type": "code",
   "execution_count": 5,
   "id": "98562777-48b4-4ede-95f2-4c93248567f2",
   "metadata": {},
   "outputs": [],
   "source": [
    "def Vertex_Generator(g, a, b, comb):\n",
    "    if(comb == 1):\n",
    "        g.add_edge(g.vertex_index[a], g.vertex_index[b])\n",
    "        \n",
    "    elif(comb == 2):\n",
    "        g.add_edge(g.vertex_index[b],g.vertex_index[a])\n",
    "        \n",
    "    elif(comb == 3):\n",
    "        g.add_edge(g.vertex_index[a], g.vertex_index[b])\n",
    "        g.add_edge(g.vertex_index[b],g.vertex_index[a])\n",
    "        \n",
    "    return"
   ]
  },
  {
   "cell_type": "code",
   "execution_count": 6,
   "id": "e168bbce-0012-4d58-bec2-6b3559f80287",
   "metadata": {},
   "outputs": [],
   "source": [
    "def Cell_Generator(L,C, comb):\n",
    "    \n",
    "    g = Graph()\n",
    "    g.add_vertex(L*C + 2)\n",
    "    \n",
    "    l = 0\n",
    "    \n",
    "    for i in range(L):\n",
    "        if(i==0):\n",
    "            for j in range(C):\n",
    "                Vertex_Generator(g, i, j+1, comb[l])\n",
    "                l += 1\n",
    "        else:\n",
    "            for j in range(C):\n",
    "                Vertex_Generator(g, i+j, i+j+C, comb[l])\n",
    "                l += 1\n",
    "    \n",
    "    for j in range(C):\n",
    "        Vertex_Generator(g, (L*C-C)+1+j, L*C+1, comb[l])\n",
    "        l += 1\n",
    "    \n",
    "    return g"
   ]
  },
  {
   "cell_type": "code",
   "execution_count": 7,
   "id": "046c699a-c0e2-42de-b343-24be007cbc67",
   "metadata": {},
   "outputs": [],
   "source": [
    "def Percolation_Check(compDown, compUp):\n",
    "    \n",
    "    aDown = compDown.a[0]\n",
    "    bDown = compDown.a[-1]\n",
    "\n",
    "    aUp = compUp.a[0]\n",
    "    bUp = compUp.a[-1]\n",
    "    if(aDown == bDown & aUp == bUp):\n",
    "        return int(3)\n",
    "    elif(aDown == bDown):\n",
    "        return int(1)\n",
    "    elif(aUp == bUp):\n",
    "        return int(2)\n",
    "    return int(0)"
   ]
  },
  {
   "cell_type": "code",
   "execution_count": 8,
   "id": "077b3bb9-ad49-4831-94ad-8526f8984caa",
   "metadata": {},
   "outputs": [],
   "source": [
    "def Group_Probability_Type(L, C, combination, probabilityLayer, percolationType, probabilityType0, probabilityType1, probabilityType2, probabilityType3):\n",
    "    \n",
    "    probability = Combination_Probability(L, C, combination, probabilityLayer)\n",
    "    \n",
    "    if(percolationType == 0):\n",
    "        probabilityType0 += f\"{probability} +\"\n",
    "        \n",
    "    elif(percolationType == 1):\n",
    "        probabilityType1 += f\"{probability} +\"\n",
    "    \n",
    "    elif(percolationType == 2):\n",
    "        probabilityType2 += f\"{probability} +\"\n",
    "\n",
    "    elif(percolationType == 3):\n",
    "        probabilityType3 += f\"{probability} +\"\n",
    "\n",
    "    else:\n",
    "        return \"ERROR\"\n",
    "        \n",
    "    return probabilityType0, probabilityType1, probabilityType2, probabilityType3"
   ]
  },
  {
   "cell_type": "code",
   "execution_count": 12,
   "id": "f88b0502-8ff5-474d-ac5a-19303a105957",
   "metadata": {},
   "outputs": [],
   "source": [
    "probabilityType0 = \"\" \n",
    "probabilityType1 = \"\" \n",
    "probabilityType2 = \"\"\n",
    "probabilityType3 = \"\"\n",
    "for combination in Combinations_Generator(C,L):\n",
    "    g = Cell_Generator(L,C, combination)\n",
    "    compDown = graph_tool.topology.label_out_component(g, 0, label=None)\n",
    "    compUp = graph_tool.topology.label_out_component(g, L*C+1, label=None)\n",
    "    percolationType = Percolation_Check(compDown, compUp)\n",
    "    probabilityType0, probabilityType1, probabilityType2, probabilityType3 = Group_Probability_Type(L, C, combination, probabilityLayer, percolationType, probabilityType0, probabilityType1, probabilityType2, probabilityType3)"
   ]
  },
  {
   "cell_type": "code",
   "execution_count": 13,
   "id": "748f59cd-39ef-4dc8-be3b-2b7b1b4df106",
   "metadata": {},
   "outputs": [],
   "source": [
    "#probabilityType0"
   ]
  },
  {
   "cell_type": "code",
   "execution_count": 15,
   "id": "549272f0-5786-4ac5-9daa-5cf98e090040",
   "metadata": {},
   "outputs": [],
   "source": [
    "#probabilityType1"
   ]
  },
  {
   "cell_type": "code",
   "execution_count": 29,
   "id": "3909de93-8321-41e9-b659-07c155f2f5d9",
   "metadata": {},
   "outputs": [],
   "source": [
    "#probabilityType2"
   ]
  },
  {
   "cell_type": "code",
   "execution_count": 13,
   "id": "af176a43-85d9-44d4-9eda-94829e74a5f3",
   "metadata": {},
   "outputs": [
    {
     "data": {
      "text/plain": [
       "'pA0 pA3 pB0 pB3  +pA0 pA3 pB3 pB3  +pA3 pA0 pB3 pB0  +pA3 pA0 pB3 pB3  +pA3 pA3 pB0 pB3  +pA3 pA3 pB3 pB0  +pA3 pA3 pB3 pB3  +'"
      ]
     },
     "execution_count": 13,
     "metadata": {},
     "output_type": "execute_result"
    }
   ],
   "source": [
    "probabilityType3"
   ]
  },
  {
   "cell_type": "markdown",
   "id": "8ecbe8fb-b5d3-4d93-a09f-c46c9a34c84f",
   "metadata": {},
   "source": [
    "## Generate Graphs"
   ]
  },
  {
   "cell_type": "code",
   "execution_count": 14,
   "id": "9052cc54-fb31-4475-901d-39d0f8c4eba4",
   "metadata": {},
   "outputs": [],
   "source": [
    "for combination in Combinations_Generator(C,L):\n",
    "    g = Cell_Generator(L,C, combination)\n",
    "    compDown = graph_tool.topology.label_out_component(g, 0, label=None)\n",
    "    compUp = graph_tool.topology.label_out_component(g, L*C+1, label=None)\n",
    "    percolationType = Percolation_Check(compDown, compUp)\n",
    "    if(percolationType == 1):\n",
    "        graph_draw(g, vertex_text=g.vertex_index, output = f\"Graphs/Type{percolationType}/{combination}.png\")\n",
    "    elif(percolationType == 2):\n",
    "        graph_draw(g, vertex_text=g.vertex_index, output = f\"Graphs/Type{percolationType}/{combination}.png\")\n",
    "        \n",
    "    elif(percolationType == 3):\n",
    "        graph_draw(g, vertex_text=g.vertex_index, output = f\"Graphs/Type{percolationType}/{combination}.png\")\n",
    "    else:\n",
    "        graph_draw(g, vertex_text=g.vertex_index, output = f\"Graphs/Type{percolationType}/{combination}.png\")"
   ]
  },
  {
   "cell_type": "code",
   "execution_count": 15,
   "id": "d09f529c-60f2-4a69-9e28-180b56f47a1f",
   "metadata": {},
   "outputs": [
    {
     "name": "stdout",
     "output_type": "stream",
     "text": [
      "Element counts: {0.0: 9, 3.0: 7}\n"
     ]
    }
   ],
   "source": [
    "percolationType = np.zeros(len(Combinations_Generator(C,L)))\n",
    "i = 0\n",
    "for combination in Combinations_Generator(C,L):\n",
    "    g = Cell_Generator(L,C, combination)\n",
    "    compDown = graph_tool.topology.label_out_component(g, 0, label=None)\n",
    "    compUp = graph_tool.topology.label_out_component(g, L*C+1, label=None)\n",
    "    percolationType[i] = Percolation_Check(compDown, compUp)\n",
    "    \n",
    "    i += 1\n",
    "    #print(Percolation_Check(compDown, compUp))\n",
    "    #print(Combination_Probability(L, C, combination, probabilityLayer))\n",
    "\n",
    "uniqueType, counts = np.unique(percolationType, return_counts=True)\n",
    "\n",
    "# Combine unique elements and counts into a dictionary\n",
    "typeCounts = dict(zip(uniqueType, counts))\n",
    "\n",
    "# Print the result\n",
    "print(\"Element counts:\", typeCounts)"
   ]
  },
  {
   "cell_type": "markdown",
   "id": "b961dd03-0857-4a7f-ad1a-6d1d55620841",
   "metadata": {},
   "source": [
    "# Cluster Mass"
   ]
  },
  {
   "cell_type": "code",
   "execution_count": 16,
   "id": "1440f060-196f-4f46-a460-5edb3c49b84b",
   "metadata": {},
   "outputs": [],
   "source": [
    "def Edge_Vertex_Relation():#Returns a matrix that relates the edges with the vertex\n",
    "    L = 1\n",
    "    C = 2\n",
    "    relation_list = []\n",
    "    \n",
    "    for i in range(L):\n",
    "        if(i==0):\n",
    "            for j in range(C):\n",
    "                relation_list.append((i, j+1))\n",
    "        else:\n",
    "            for j in range(C):\n",
    "                relation_list.append((i+j, i+j+C))\n",
    "                \n",
    "    for j in range(C):\n",
    "        relation_list.append(((L*C-C)+1+j, L*C+1))\n",
    "    return np.array(relation_list)"
   ]
  },
  {
   "cell_type": "code",
   "execution_count": 17,
   "id": "1c4e72b5-e740-49a1-9820-db92222467cf",
   "metadata": {},
   "outputs": [],
   "source": [
    "def Common_Elements(array1, array2):\n",
    "    set1 = set(array1)\n",
    "    set2 = set(array2)\n",
    "\n",
    "    commonElements = set1.intersection(set2)\n",
    "    numberCommonElements = len(commonElements)\n",
    "\n",
    "    if numberCommonElements == 0:\n",
    "        return 0\n",
    "    elif numberCommonElements == 1:\n",
    "        return 1\n",
    "    else:\n",
    "        return 2"
   ]
  },
  {
   "cell_type": "code",
   "execution_count": 18,
   "id": "8bf0049d-3dd0-45ec-bb39-9c8fa98ec152",
   "metadata": {},
   "outputs": [],
   "source": [
    "def Above_Below(array1, array2):\n",
    "    \n",
    "    set1 = set(array1)\n",
    "    set2 = set(array2)\n",
    "    commonElements = set1.intersection(set2)\n",
    "    \n",
    "    if max(set1) in commonElements:\n",
    "        # If the maximum element of set1 is in common with set2, return 1\n",
    "        return 1\n",
    "    else:\n",
    "        # Otherwise, return 0\n",
    "        return 0"
   ]
  },
  {
   "cell_type": "code",
   "execution_count": 19,
   "id": "2dad68ae-d5df-46aa-9aa3-50c362f6e2c0",
   "metadata": {},
   "outputs": [],
   "source": [
    "def Find_Vertex(arr):#Return all vertex index that belongs to the cell cluster SCC\n",
    "    return [index for index, value in enumerate(arr) if value == 1]"
   ]
  },
  {
   "cell_type": "code",
   "execution_count": 20,
   "id": "30f38acf-9bc8-4ae5-ace5-087c02acce57",
   "metadata": {},
   "outputs": [],
   "source": [
    "def Find_Vertex_Edges(targetVertex):#Return the edges index related to the target vertex\n",
    "    indices = [index for index, line in enumerate(Edge_Vertex_Relation()) if targetVertex in line]\n",
    "    return indices"
   ]
  },
  {
   "cell_type": "code",
   "execution_count": 21,
   "id": "aa079123-00d9-4a89-a19d-17a43bd3d17f",
   "metadata": {},
   "outputs": [],
   "source": [
    "def Same_SCC(arr, targetIndex):\n",
    "    \n",
    "    value = arr[targetIndex]\n",
    "    sameIndexValue = np.where(arr == value)[0]\n",
    "    \n",
    "    return sameIndexValue"
   ]
  },
  {
   "cell_type": "code",
   "execution_count": 22,
   "id": "84ebebe4-2e36-40e2-8e92-2450019a4a90",
   "metadata": {},
   "outputs": [],
   "source": [
    "def Cell_SCC(g):\n",
    "    compDisconnected = graph_tool.topology.label_components(g, attractors=True)\n",
    "    Vertex_Generator(g, 0, L*C+1, 3)\n",
    "    compConnected = graph_tool.topology.label_components(g, attractors=True)\n",
    "    return compDisconnected, compConnected"
   ]
  },
  {
   "cell_type": "code",
   "execution_count": 23,
   "id": "f9d976fc-c2eb-4b1d-a913-4f3a25bf0241",
   "metadata": {},
   "outputs": [],
   "source": [
    "def Edge_Mass_Contribution(edgeVertexRelation, vertexIndexSCC, combination, probabilityLayer):\n",
    "    edgeMass = \"\"\n",
    "    \n",
    "    if(Common_Elements(edgeVertexRelation, vertexIndexSCC) == 1 and combination==0):\n",
    "        if(Above_Below(edgeVertexRelation, vertexIndexSCC)==0):\n",
    "            edgeMass += f\"t{probabilityLayer}top +\"\n",
    "        else:\n",
    "            edgeMass += f\"t{probabilityLayer}bottom +\"\n",
    "                \n",
    "    elif(Common_Elements(edgeVertexRelation, vertexIndexSCC) == 1 and combination==1):\n",
    "        if(Above_Below(edgeVertexRelation, vertexIndexSCC)==0):\n",
    "            edgeMass += f\"mi1{probabilityLayer}top +\"\n",
    "        else:\n",
    "            edgeMass += f\"mi1{probabilityLayer}bottom +\"\n",
    "\n",
    "    elif(Common_Elements(edgeVertexRelation, vertexIndexSCC) == 1 and combination==2):\n",
    "        if(Above_Below(edgeVertexRelation, vertexIndexSCC)==0):\n",
    "            edgeMass += f\"mi2{probabilityLayer}top +\"\n",
    "        else:\n",
    "            edgeMass += f\"mi2{probabilityLayer}bottom +\"\n",
    "            \n",
    "    elif(Common_Elements(edgeVertexRelation, vertexIndexSCC) == 2 and combination==0):\n",
    "        edgeMass += f\"t{probabilityLayer}top +t{probabilityLayer}bottom +\"\n",
    "            \n",
    "    elif(Common_Elements(edgeVertexRelation, vertexIndexSCC) == 2 and combination==1):\n",
    "        edgeMass += f\"m1{probabilityLayer} +\"\n",
    "\n",
    "    elif(Common_Elements(edgeVertexRelation, vertexIndexSCC) == 2 and combination==2):\n",
    "        edgeMass += f\"m2{probabilityLayer} +\"\n",
    "        \n",
    "    elif(Common_Elements(edgeVertexRelation, vertexIndexSCC) == 2 and combination==3):\n",
    "        edgeMass += f\"M{probabilityLayer} +\"\n",
    "\n",
    "    return edgeMass"
   ]
  },
  {
   "cell_type": "code",
   "execution_count": 24,
   "id": "aab42eba-06f9-4271-9bf7-aad874d30872",
   "metadata": {},
   "outputs": [],
   "source": [
    "def Mass_Combination(compDisconnected, compConnected, combination, probabilityLayer):\n",
    "    edgeVertexRelation = Edge_Vertex_Relation()\n",
    "    \n",
    "    cellMassDown = \"\"\n",
    "    vertexIndexSCCDown = Same_SCC(compDisconnected[0].a, 0)\n",
    "\n",
    "    for edgeIndex in range(4):\n",
    "        cellMassDown += Edge_Mass_Contribution(edgeVertexRelation[edgeIndex], vertexIndexSCCDown, combination[edgeIndex], probabilityLayer[edgeIndex//2])\n",
    "\n",
    "    cellMassDown = cellMassDown[:-2]\n",
    "\n",
    "    \n",
    "    cellMassUp = \"\"\n",
    "    vertexIndexSCCUp = Same_SCC(compDisconnected[0].a, 3)\n",
    "    \n",
    "    for edgeIndex in range(4):\n",
    "        cellMassUp += Edge_Mass_Contribution(edgeVertexRelation[edgeIndex], vertexIndexSCCUp, combination[edgeIndex], probabilityLayer[edgeIndex//2])\n",
    "        \n",
    "    cellMassUp = cellMassUp[:-2]\n",
    "\n",
    "    \n",
    "    cellMass = \"\"\n",
    "    vertexIndexSCC = Same_SCC(compConnected[0].a, 0)\n",
    "\n",
    "    for edgeIndex in range(4):\n",
    "        cellMass += Edge_Mass_Contribution(edgeVertexRelation[edgeIndex], vertexIndexSCC, combination[edgeIndex], probabilityLayer[edgeIndex//2])\n",
    "        \n",
    "    cellMass = cellMass[:-2]\n",
    "\n",
    "    \n",
    "    return cellMassDown, cellMassUp, cellMass"
   ]
  },
  {
   "cell_type": "code",
   "execution_count": 19,
   "id": "2aee3ac2-fc9a-4d31-af28-e44731b93085",
   "metadata": {},
   "outputs": [
    {
     "name": "stdout",
     "output_type": "stream",
     "text": [
      "[0 0 0 0]\n",
      "[0 1 2 3]\n",
      "[0 1 2 0]\n",
      "t_top +t_top\n",
      "t_bottom +t_bottom\n",
      "t_top +t_top +t_bottom +t_bottom\n"
     ]
    }
   ],
   "source": [
    "combinations = Combinations_Generator(C,L)\n",
    "combination = combinations[0]\n",
    "print(combination)\n",
    "g = Cell_Generator(L,C, combination)\n",
    "compDown = graph_tool.topology.label_out_component(g, 0, label=None)\n",
    "compUp = graph_tool.topology.label_out_component(g, L*C+1, label=None)\n",
    "compDisconnected, compConnected = Cell_SCC(g)\n",
    "percolationType = Percolation_Check(compDown, compUp)\n",
    "cellMassDown, cellMassUp, cellMass = Mass_Combination(compDisconnected, compConnected, combination, probabilityLayer)\n",
    "print(compDisconnected[0].a)\n",
    "print(compConnected[0].a)\n",
    "print(cellMassDown)\n",
    "print(cellMassUp)\n",
    "print(cellMass)"
   ]
  },
  {
   "cell_type": "code",
   "execution_count": 25,
   "id": "07ab4df4-d5ea-4e8d-b699-f7d9aad114a1",
   "metadata": {},
   "outputs": [],
   "source": [
    "for combination in Combinations_Generator(C,L):\n",
    "    g = Cell_Generator(L,C, combination)\n",
    "    compDown = graph_tool.topology.label_out_component(g, 0, label=None)\n",
    "    compUp = graph_tool.topology.label_out_component(g, L*C+1, label=None)\n",
    "    percolationType = Percolation_Check(compDown, compUp)\n",
    "    compDisconnected, compConnected = Cell_SCC(g)\n",
    "    cellMassDown, cellMassUp, cellMass = Mass_Combination(compDisconnected, compConnected, combination, probabilityLayer)"
   ]
  },
  {
   "cell_type": "code",
   "execution_count": 26,
   "id": "09bc40d2-eef3-40e7-8f9f-250cc559d440",
   "metadata": {},
   "outputs": [],
   "source": [
    "functionMass = \"\"\n",
    "functionttop = \"\"\n",
    "functiontbottom = \"\"\n",
    "\n",
    "functionm1 = \"\"\n",
    "functionmi1top = \"\"\n",
    "functionmi1bottom = \"\"\n",
    "\n",
    "functionm2 = \"\"\n",
    "functionmi2top = \"\"\n",
    "functionmi2bottom = \"\"\n",
    "\n",
    "for combination in Combinations_Generator(C, L):\n",
    "    combinationProbability = Combination_Probability(L, C, combination, probabilityLayer)\n",
    "    g = Cell_Generator(L, C, combination)\n",
    "    compDown = graph_tool.topology.label_out_component(g, 0, label=None)\n",
    "    compUp = graph_tool.topology.label_out_component(g, L * C + 1, label=None)\n",
    "    percolationType = Percolation_Check(compDown, compUp)\n",
    "    compDisconnected, compConnected = Cell_SCC(g)\n",
    "    cellMassDown, cellMassUp, cellMass = Mass_Combination(compDisconnected, compConnected, combination, probabilityLayer)\n",
    "    \n",
    "    if percolationType == 0:\n",
    "        functionttop += f\"{combinationProbability}({cellMassDown})+\"\n",
    "        functiontbottom += f\"{combinationProbability}({cellMassUp})+\"\n",
    "    elif percolationType == 1:\n",
    "        functionm1 += f\"{combinationProbability}({cellMass})+\"\n",
    "        functionmi1top += f\"{combinationProbability}({cellMassDown})+\"\n",
    "        functionmi1bottom += f\"{combinationProbability}({cellMassUp})+\"\n",
    "    elif percolationType == 2:\n",
    "        functionm2 += f\"{combinationProbability}({cellMass})+\"\n",
    "        functionmi2top += f\"{combinationProbability}({cellMassDown})+\"\n",
    "        functionmi2bottom += f\"{combinationProbability}({cellMassUp})+\"\n",
    "    elif percolationType == 3:\n",
    "        functionMass += f\"{combinationProbability}({cellMass})+\"\n"
   ]
  },
  {
   "cell_type": "code",
   "execution_count": 28,
   "id": "a3c55a1a-b307-4b9e-b946-6bc605b3a2c2",
   "metadata": {},
   "outputs": [
    {
     "data": {
      "text/plain": [
       "'pA0 pA3 pB0 pB3 (tAtop +MA +tBbottom +MB)+pA0 pA3 pB3 pB3 (tAtop +tAbottom +MA +MB +MB)+pA3 pA0 pB3 pB0 (MA +tAtop +MB +tBbottom)+pA3 pA0 pB3 pB3 (MA +tAtop +tAbottom +MB +MB)+pA3 pA3 pB0 pB3 (MA +MA +tBtop +tBbottom +MB)+pA3 pA3 pB3 pB0 (MA +MA +MB +tBtop +tBbottom)+pA3 pA3 pB3 pB3 (MA +MA +MB +MB)+'"
      ]
     },
     "execution_count": 28,
     "metadata": {},
     "output_type": "execute_result"
    }
   ],
   "source": [
    "functionMass"
   ]
  },
  {
   "cell_type": "code",
   "execution_count": 30,
   "id": "5e992752-0d94-474d-84fc-c3351baac720",
   "metadata": {},
   "outputs": [
    {
     "data": {
      "text/plain": [
       "'pA0 pA0 pB0 pB0 (tAtop +tAtop)+pA0 pA0 pB0 pB3 (tAtop +tAtop)+pA0 pA0 pB3 pB0 (tAtop +tAtop)+pA0 pA0 pB3 pB3 (tAtop +tAtop)+pA0 pA3 pB0 pB0 (tAtop +MA +tBtop)+pA0 pA3 pB3 pB0 (tAtop +MA +tBtop)+pA3 pA0 pB0 pB0 (MA +tAtop +tBtop)+pA3 pA0 pB0 pB3 (MA +tAtop +tBtop)+pA3 pA3 pB0 pB0 (MA +MA +tBtop +tBtop)+'"
      ]
     },
     "execution_count": 30,
     "metadata": {},
     "output_type": "execute_result"
    }
   ],
   "source": [
    "functionttop"
   ]
  },
  {
   "cell_type": "code",
   "execution_count": 31,
   "id": "024aa1dc-356e-4a9f-bf7b-73f829eecda5",
   "metadata": {},
   "outputs": [
    {
     "data": {
      "text/plain": [
       "'pA0 pA0 pB0 pB0 (tBbottom +tBbottom)+pA0 pA0 pB0 pB3 (tAbottom +tBbottom +MB)+pA0 pA0 pB3 pB0 (tAbottom +MB +tBbottom)+pA0 pA0 pB3 pB3 (tAbottom +tAbottom +MB +MB)+pA0 pA3 pB0 pB0 (tBbottom +tBbottom)+pA0 pA3 pB3 pB0 (tAbottom +MB +tBbottom)+pA3 pA0 pB0 pB0 (tBbottom +tBbottom)+pA3 pA0 pB0 pB3 (tAbottom +tBbottom +MB)+pA3 pA3 pB0 pB0 (tBbottom +tBbottom)+'"
      ]
     },
     "execution_count": 31,
     "metadata": {},
     "output_type": "execute_result"
    }
   ],
   "source": [
    "functiontbottom"
   ]
  },
  {
   "cell_type": "code",
   "execution_count": 36,
   "id": "311dd472-1a85-4968-acb7-cf30a84eba25",
   "metadata": {},
   "outputs": [],
   "source": [
    "#functionm1"
   ]
  },
  {
   "cell_type": "code",
   "execution_count": 38,
   "id": "35e7449f-202a-420e-9e85-f176ecd4e66f",
   "metadata": {},
   "outputs": [],
   "source": [
    "#functionmi1top"
   ]
  },
  {
   "cell_type": "code",
   "execution_count": 40,
   "id": "ae2f5407-a8c0-4a39-8e49-543c85a09b26",
   "metadata": {},
   "outputs": [],
   "source": [
    "#functionmi1bottom"
   ]
  },
  {
   "cell_type": "code",
   "execution_count": 42,
   "id": "7f519e78-afda-475a-9f2d-222d9db4acaa",
   "metadata": {},
   "outputs": [],
   "source": [
    "#functionm2"
   ]
  },
  {
   "cell_type": "code",
   "execution_count": 44,
   "id": "4f231b7f-095a-4090-9384-ef9a723476a7",
   "metadata": {},
   "outputs": [],
   "source": [
    "#functionmi2top"
   ]
  },
  {
   "cell_type": "code",
   "execution_count": 27,
   "id": "79e76783-4694-4254-8f51-4a470ccc8b2c",
   "metadata": {},
   "outputs": [
    {
     "data": {
      "text/plain": [
       "''"
      ]
     },
     "execution_count": 27,
     "metadata": {},
     "output_type": "execute_result"
    }
   ],
   "source": [
    "functionmi2bottom"
   ]
  },
  {
   "cell_type": "code",
   "execution_count": null,
   "id": "d4dc9608-548e-4c11-aaa7-7de05ffb98fb",
   "metadata": {},
   "outputs": [],
   "source": []
  }
 ],
 "metadata": {
  "kernelspec": {
   "display_name": "Python 3 (ipykernel)",
   "language": "python",
   "name": "python3"
  },
  "language_info": {
   "codemirror_mode": {
    "name": "ipython",
    "version": 3
   },
   "file_extension": ".py",
   "mimetype": "text/x-python",
   "name": "python",
   "nbconvert_exporter": "python",
   "pygments_lexer": "ipython3",
   "version": "3.12.1"
  }
 },
 "nbformat": 4,
 "nbformat_minor": 5
}
